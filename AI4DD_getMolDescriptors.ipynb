{
  "cells": [
    {
      "cell_type": "markdown",
      "metadata": {
        "id": "jzy__072MRNz"
      },
      "source": [
        "# Envriment"
      ]
    },
    {
      "cell_type": "code",
      "execution_count": null,
      "metadata": {
        "colab": {
          "base_uri": "https://localhost:8080/"
        },
        "id": "28lYKZg8LRjG",
        "outputId": "00f75182-c0e2-46ac-836a-29d150691c44"
      },
      "outputs": [
        {
          "output_type": "stream",
          "name": "stdout",
          "text": [
            "Collecting rdkit\n",
            "  Downloading rdkit-2023.3.3-cp310-cp310-manylinux_2_17_x86_64.manylinux2014_x86_64.whl (29.7 MB)\n",
            "\u001b[2K     \u001b[90m━━━━━━━━━━━━━━━━━━━━━━━━━━━━━━━━━━━━━━━━\u001b[0m \u001b[32m29.7/29.7 MB\u001b[0m \u001b[31m67.3 MB/s\u001b[0m eta \u001b[36m0:00:00\u001b[0m\n",
            "\u001b[?25hCollecting padelpy\n",
            "  Downloading padelpy-0.1.14-py2.py3-none-any.whl (20.9 MB)\n",
            "\u001b[2K     \u001b[90m━━━━━━━━━━━━━━━━━━━━━━━━━━━━━━━━━━━━━━━━\u001b[0m \u001b[32m20.9/20.9 MB\u001b[0m \u001b[31m75.0 MB/s\u001b[0m eta \u001b[36m0:00:00\u001b[0m\n",
            "\u001b[?25hRequirement already satisfied: numpy in /usr/local/lib/python3.10/dist-packages (from rdkit) (1.23.5)\n",
            "Requirement already satisfied: Pillow in /usr/local/lib/python3.10/dist-packages (from rdkit) (9.4.0)\n",
            "Installing collected packages: padelpy, rdkit\n",
            "Successfully installed padelpy-0.1.14 rdkit-2023.3.3\n"
          ]
        }
      ],
      "source": [
        "!pip install rdkit padelpy"
      ]
    },
    {
      "cell_type": "code",
      "execution_count": null,
      "metadata": {
        "id": "OASVPw6wLdyH"
      },
      "outputs": [],
      "source": [
        "from rdkit import Chem\n",
        "from rdkit.Chem import Descriptors"
      ]
    },
    {
      "cell_type": "code",
      "source": [
        "from padelpy import from_smiles\n",
        "descriptors = from_smiles('CCCC(=O)Nc1ccc(OCC(O)CNC(C)C)c(c1)C(=O)C')\n",
        "descriptors\n",
        "# print(len(descriptors))"
      ],
      "metadata": {
        "id": "aaRxqti7KMhY"
      },
      "execution_count": null,
      "outputs": []
    },
    {
      "cell_type": "code",
      "source": [
        "type(descriptors)"
      ],
      "metadata": {
        "colab": {
          "base_uri": "https://localhost:8080/"
        },
        "id": "7dyK-xPAhtVs",
        "outputId": "5ff94942-5f9a-4bd5-d3b3-2cf7f066ef83"
      },
      "execution_count": null,
      "outputs": [
        {
          "output_type": "execute_result",
          "data": {
            "text/plain": [
              "dict"
            ]
          },
          "metadata": {},
          "execution_count": 8
        }
      ]
    },
    {
      "cell_type": "code",
      "source": [
        "df['smiles']"
      ],
      "metadata": {
        "colab": {
          "base_uri": "https://localhost:8080/"
        },
        "id": "MpGKU9EvjVpF",
        "outputId": "52303beb-44ed-4a80-9fb8-f429802559ef"
      },
      "execution_count": null,
      "outputs": [
        {
          "output_type": "execute_result",
          "data": {
            "text/plain": [
              "0                   Nc1nc(NC2CC2)c3ncn(C4CC(CO)C=C4)c3n1\n",
              "1      CC1OC(OC2C(O)C(O)C(OC3C(O)C(O)C(O)OC3CO)OC2CO)...\n",
              "2               CCCC(=O)Nc1ccc(OCC(O)CNC(C)C)c(c1)C(=O)C\n",
              "3                       CCN(CC)CCNC(=O)c1ccc(NC(=O)C)cc1\n",
              "4                  OC(=O)COC(=O)Cc1ccccc1Nc2c(Cl)cccc2Cl\n",
              "                             ...                        \n",
              "935                         c1ccc2c(c1)c(no2)CS(=O)(=O)N\n",
              "936     CN1CCN(CC1)C(=O)OC2c3c(nccn3)C(=O)N2c4ccc(cn4)Cl\n",
              "937                   CN(C)CCOC1=Cc2ccccc2Sc3c1cc(cc3)Cl\n",
              "938                   CN(C)CCOC1=Cc2cc(ccc2Sc3c1cccc3)Cl\n",
              "939     c1ccc2c(c1)/C(=C\\CCN3CCN(CC3)CCO)/c4cc(ccc4S2)Cl\n",
              "Name: smiles, Length: 940, dtype: object"
            ]
          },
          "metadata": {},
          "execution_count": 13
        }
      ]
    },
    {
      "cell_type": "code",
      "source": [
        "import pandas as pd\n",
        "df = pd.read_excel('/content/CNSData(940).xlsx')\n",
        "df"
      ],
      "metadata": {
        "colab": {
          "base_uri": "https://localhost:8080/",
          "height": 419
        },
        "id": "oXhoy7pLhzvh",
        "outputId": "1a00eae9-7821-480d-ed48-ef864da59292"
      },
      "execution_count": null,
      "outputs": [
        {
          "output_type": "execute_result",
          "data": {
            "text/plain": [
              "      ID             name                                             smiles  \\\n",
              "0      1  ABACAVIRSULFATE               Nc1nc(NC2CC2)c3ncn(C4CC(CO)C=C4)c3n1   \n",
              "1      2         ACARBOSE  CC1OC(OC2C(O)C(O)C(OC3C(O)C(O)C(O)OC3CO)OC2CO)...   \n",
              "2      3       ACEBUTOLOL           CCCC(=O)Nc1ccc(OCC(O)CNC(C)C)c(c1)C(=O)C   \n",
              "3      4       ACECAINIDE                   CCN(CC)CCNC(=O)c1ccc(NC(=O)C)cc1   \n",
              "4      5      ACECLOFENAC              OC(=O)COC(=O)Cc1ccccc1Nc2c(Cl)cccc2Cl   \n",
              "..   ...              ...                                                ...   \n",
              "935  936       ZONISAMIDE                       c1ccc2c(c1)c(no2)CS(=O)(=O)N   \n",
              "936  937        ZOPICLONE   CN1CCN(CC1)C(=O)OC2c3c(nccn3)C(=O)N2c4ccc(cn4)Cl   \n",
              "937  938         ZOTEPINE                 CN(C)CCOC1=Cc2ccccc2Sc3c1cc(cc3)Cl   \n",
              "938  939         ZOTEPINE                 CN(C)CCOC1=Cc2cc(ccc2Sc3c1cccc3)Cl   \n",
              "939  940   ZUCLOPENTHIXOL   c1ccc2c(c1)/C(=C\\CCN3CCN(CC3)CCO)/c4cc(ccc4S2)Cl   \n",
              "\n",
              "     output  \n",
              "0         0  \n",
              "1         0  \n",
              "2         0  \n",
              "3         0  \n",
              "4         0  \n",
              "..      ...  \n",
              "935       1  \n",
              "936       1  \n",
              "937       1  \n",
              "938       1  \n",
              "939       1  \n",
              "\n",
              "[940 rows x 4 columns]"
            ],
            "text/html": [
              "\n",
              "  <div id=\"df-6c3e2267-0774-4c62-8949-edecb2a19c47\" class=\"colab-df-container\">\n",
              "    <div>\n",
              "<style scoped>\n",
              "    .dataframe tbody tr th:only-of-type {\n",
              "        vertical-align: middle;\n",
              "    }\n",
              "\n",
              "    .dataframe tbody tr th {\n",
              "        vertical-align: top;\n",
              "    }\n",
              "\n",
              "    .dataframe thead th {\n",
              "        text-align: right;\n",
              "    }\n",
              "</style>\n",
              "<table border=\"1\" class=\"dataframe\">\n",
              "  <thead>\n",
              "    <tr style=\"text-align: right;\">\n",
              "      <th></th>\n",
              "      <th>ID</th>\n",
              "      <th>name</th>\n",
              "      <th>smiles</th>\n",
              "      <th>output</th>\n",
              "    </tr>\n",
              "  </thead>\n",
              "  <tbody>\n",
              "    <tr>\n",
              "      <th>0</th>\n",
              "      <td>1</td>\n",
              "      <td>ABACAVIRSULFATE</td>\n",
              "      <td>Nc1nc(NC2CC2)c3ncn(C4CC(CO)C=C4)c3n1</td>\n",
              "      <td>0</td>\n",
              "    </tr>\n",
              "    <tr>\n",
              "      <th>1</th>\n",
              "      <td>2</td>\n",
              "      <td>ACARBOSE</td>\n",
              "      <td>CC1OC(OC2C(O)C(O)C(OC3C(O)C(O)C(O)OC3CO)OC2CO)...</td>\n",
              "      <td>0</td>\n",
              "    </tr>\n",
              "    <tr>\n",
              "      <th>2</th>\n",
              "      <td>3</td>\n",
              "      <td>ACEBUTOLOL</td>\n",
              "      <td>CCCC(=O)Nc1ccc(OCC(O)CNC(C)C)c(c1)C(=O)C</td>\n",
              "      <td>0</td>\n",
              "    </tr>\n",
              "    <tr>\n",
              "      <th>3</th>\n",
              "      <td>4</td>\n",
              "      <td>ACECAINIDE</td>\n",
              "      <td>CCN(CC)CCNC(=O)c1ccc(NC(=O)C)cc1</td>\n",
              "      <td>0</td>\n",
              "    </tr>\n",
              "    <tr>\n",
              "      <th>4</th>\n",
              "      <td>5</td>\n",
              "      <td>ACECLOFENAC</td>\n",
              "      <td>OC(=O)COC(=O)Cc1ccccc1Nc2c(Cl)cccc2Cl</td>\n",
              "      <td>0</td>\n",
              "    </tr>\n",
              "    <tr>\n",
              "      <th>...</th>\n",
              "      <td>...</td>\n",
              "      <td>...</td>\n",
              "      <td>...</td>\n",
              "      <td>...</td>\n",
              "    </tr>\n",
              "    <tr>\n",
              "      <th>935</th>\n",
              "      <td>936</td>\n",
              "      <td>ZONISAMIDE</td>\n",
              "      <td>c1ccc2c(c1)c(no2)CS(=O)(=O)N</td>\n",
              "      <td>1</td>\n",
              "    </tr>\n",
              "    <tr>\n",
              "      <th>936</th>\n",
              "      <td>937</td>\n",
              "      <td>ZOPICLONE</td>\n",
              "      <td>CN1CCN(CC1)C(=O)OC2c3c(nccn3)C(=O)N2c4ccc(cn4)Cl</td>\n",
              "      <td>1</td>\n",
              "    </tr>\n",
              "    <tr>\n",
              "      <th>937</th>\n",
              "      <td>938</td>\n",
              "      <td>ZOTEPINE</td>\n",
              "      <td>CN(C)CCOC1=Cc2ccccc2Sc3c1cc(cc3)Cl</td>\n",
              "      <td>1</td>\n",
              "    </tr>\n",
              "    <tr>\n",
              "      <th>938</th>\n",
              "      <td>939</td>\n",
              "      <td>ZOTEPINE</td>\n",
              "      <td>CN(C)CCOC1=Cc2cc(ccc2Sc3c1cccc3)Cl</td>\n",
              "      <td>1</td>\n",
              "    </tr>\n",
              "    <tr>\n",
              "      <th>939</th>\n",
              "      <td>940</td>\n",
              "      <td>ZUCLOPENTHIXOL</td>\n",
              "      <td>c1ccc2c(c1)/C(=C\\CCN3CCN(CC3)CCO)/c4cc(ccc4S2)Cl</td>\n",
              "      <td>1</td>\n",
              "    </tr>\n",
              "  </tbody>\n",
              "</table>\n",
              "<p>940 rows × 4 columns</p>\n",
              "</div>\n",
              "    <div class=\"colab-df-buttons\">\n",
              "\n",
              "  <div class=\"colab-df-container\">\n",
              "    <button class=\"colab-df-convert\" onclick=\"convertToInteractive('df-6c3e2267-0774-4c62-8949-edecb2a19c47')\"\n",
              "            title=\"Convert this dataframe to an interactive table.\"\n",
              "            style=\"display:none;\">\n",
              "\n",
              "  <svg xmlns=\"http://www.w3.org/2000/svg\" height=\"24px\" viewBox=\"0 -960 960 960\">\n",
              "    <path d=\"M120-120v-720h720v720H120Zm60-500h600v-160H180v160Zm220 220h160v-160H400v160Zm0 220h160v-160H400v160ZM180-400h160v-160H180v160Zm440 0h160v-160H620v160ZM180-180h160v-160H180v160Zm440 0h160v-160H620v160Z\"/>\n",
              "  </svg>\n",
              "    </button>\n",
              "\n",
              "  <style>\n",
              "    .colab-df-container {\n",
              "      display:flex;\n",
              "      gap: 12px;\n",
              "    }\n",
              "\n",
              "    .colab-df-convert {\n",
              "      background-color: #E8F0FE;\n",
              "      border: none;\n",
              "      border-radius: 50%;\n",
              "      cursor: pointer;\n",
              "      display: none;\n",
              "      fill: #1967D2;\n",
              "      height: 32px;\n",
              "      padding: 0 0 0 0;\n",
              "      width: 32px;\n",
              "    }\n",
              "\n",
              "    .colab-df-convert:hover {\n",
              "      background-color: #E2EBFA;\n",
              "      box-shadow: 0px 1px 2px rgba(60, 64, 67, 0.3), 0px 1px 3px 1px rgba(60, 64, 67, 0.15);\n",
              "      fill: #174EA6;\n",
              "    }\n",
              "\n",
              "    .colab-df-buttons div {\n",
              "      margin-bottom: 4px;\n",
              "    }\n",
              "\n",
              "    [theme=dark] .colab-df-convert {\n",
              "      background-color: #3B4455;\n",
              "      fill: #D2E3FC;\n",
              "    }\n",
              "\n",
              "    [theme=dark] .colab-df-convert:hover {\n",
              "      background-color: #434B5C;\n",
              "      box-shadow: 0px 1px 3px 1px rgba(0, 0, 0, 0.15);\n",
              "      filter: drop-shadow(0px 1px 2px rgba(0, 0, 0, 0.3));\n",
              "      fill: #FFFFFF;\n",
              "    }\n",
              "  </style>\n",
              "\n",
              "    <script>\n",
              "      const buttonEl =\n",
              "        document.querySelector('#df-6c3e2267-0774-4c62-8949-edecb2a19c47 button.colab-df-convert');\n",
              "      buttonEl.style.display =\n",
              "        google.colab.kernel.accessAllowed ? 'block' : 'none';\n",
              "\n",
              "      async function convertToInteractive(key) {\n",
              "        const element = document.querySelector('#df-6c3e2267-0774-4c62-8949-edecb2a19c47');\n",
              "        const dataTable =\n",
              "          await google.colab.kernel.invokeFunction('convertToInteractive',\n",
              "                                                    [key], {});\n",
              "        if (!dataTable) return;\n",
              "\n",
              "        const docLinkHtml = 'Like what you see? Visit the ' +\n",
              "          '<a target=\"_blank\" href=https://colab.research.google.com/notebooks/data_table.ipynb>data table notebook</a>'\n",
              "          + ' to learn more about interactive tables.';\n",
              "        element.innerHTML = '';\n",
              "        dataTable['output_type'] = 'display_data';\n",
              "        await google.colab.output.renderOutput(dataTable, element);\n",
              "        const docLink = document.createElement('div');\n",
              "        docLink.innerHTML = docLinkHtml;\n",
              "        element.appendChild(docLink);\n",
              "      }\n",
              "    </script>\n",
              "  </div>\n",
              "\n",
              "\n",
              "<div id=\"df-6b86f283-3fb6-4ac1-85fc-8e150fa4cd52\">\n",
              "  <button class=\"colab-df-quickchart\" onclick=\"quickchart('df-6b86f283-3fb6-4ac1-85fc-8e150fa4cd52')\"\n",
              "            title=\"Suggest charts.\"\n",
              "            style=\"display:none;\">\n",
              "\n",
              "<svg xmlns=\"http://www.w3.org/2000/svg\" height=\"24px\"viewBox=\"0 0 24 24\"\n",
              "     width=\"24px\">\n",
              "    <g>\n",
              "        <path d=\"M19 3H5c-1.1 0-2 .9-2 2v14c0 1.1.9 2 2 2h14c1.1 0 2-.9 2-2V5c0-1.1-.9-2-2-2zM9 17H7v-7h2v7zm4 0h-2V7h2v10zm4 0h-2v-4h2v4z\"/>\n",
              "    </g>\n",
              "</svg>\n",
              "  </button>\n",
              "\n",
              "<style>\n",
              "  .colab-df-quickchart {\n",
              "      --bg-color: #E8F0FE;\n",
              "      --fill-color: #1967D2;\n",
              "      --hover-bg-color: #E2EBFA;\n",
              "      --hover-fill-color: #174EA6;\n",
              "      --disabled-fill-color: #AAA;\n",
              "      --disabled-bg-color: #DDD;\n",
              "  }\n",
              "\n",
              "  [theme=dark] .colab-df-quickchart {\n",
              "      --bg-color: #3B4455;\n",
              "      --fill-color: #D2E3FC;\n",
              "      --hover-bg-color: #434B5C;\n",
              "      --hover-fill-color: #FFFFFF;\n",
              "      --disabled-bg-color: #3B4455;\n",
              "      --disabled-fill-color: #666;\n",
              "  }\n",
              "\n",
              "  .colab-df-quickchart {\n",
              "    background-color: var(--bg-color);\n",
              "    border: none;\n",
              "    border-radius: 50%;\n",
              "    cursor: pointer;\n",
              "    display: none;\n",
              "    fill: var(--fill-color);\n",
              "    height: 32px;\n",
              "    padding: 0;\n",
              "    width: 32px;\n",
              "  }\n",
              "\n",
              "  .colab-df-quickchart:hover {\n",
              "    background-color: var(--hover-bg-color);\n",
              "    box-shadow: 0 1px 2px rgba(60, 64, 67, 0.3), 0 1px 3px 1px rgba(60, 64, 67, 0.15);\n",
              "    fill: var(--button-hover-fill-color);\n",
              "  }\n",
              "\n",
              "  .colab-df-quickchart-complete:disabled,\n",
              "  .colab-df-quickchart-complete:disabled:hover {\n",
              "    background-color: var(--disabled-bg-color);\n",
              "    fill: var(--disabled-fill-color);\n",
              "    box-shadow: none;\n",
              "  }\n",
              "\n",
              "  .colab-df-spinner {\n",
              "    border: 2px solid var(--fill-color);\n",
              "    border-color: transparent;\n",
              "    border-bottom-color: var(--fill-color);\n",
              "    animation:\n",
              "      spin 1s steps(1) infinite;\n",
              "  }\n",
              "\n",
              "  @keyframes spin {\n",
              "    0% {\n",
              "      border-color: transparent;\n",
              "      border-bottom-color: var(--fill-color);\n",
              "      border-left-color: var(--fill-color);\n",
              "    }\n",
              "    20% {\n",
              "      border-color: transparent;\n",
              "      border-left-color: var(--fill-color);\n",
              "      border-top-color: var(--fill-color);\n",
              "    }\n",
              "    30% {\n",
              "      border-color: transparent;\n",
              "      border-left-color: var(--fill-color);\n",
              "      border-top-color: var(--fill-color);\n",
              "      border-right-color: var(--fill-color);\n",
              "    }\n",
              "    40% {\n",
              "      border-color: transparent;\n",
              "      border-right-color: var(--fill-color);\n",
              "      border-top-color: var(--fill-color);\n",
              "    }\n",
              "    60% {\n",
              "      border-color: transparent;\n",
              "      border-right-color: var(--fill-color);\n",
              "    }\n",
              "    80% {\n",
              "      border-color: transparent;\n",
              "      border-right-color: var(--fill-color);\n",
              "      border-bottom-color: var(--fill-color);\n",
              "    }\n",
              "    90% {\n",
              "      border-color: transparent;\n",
              "      border-bottom-color: var(--fill-color);\n",
              "    }\n",
              "  }\n",
              "</style>\n",
              "\n",
              "  <script>\n",
              "    async function quickchart(key) {\n",
              "      const quickchartButtonEl =\n",
              "        document.querySelector('#' + key + ' button');\n",
              "      quickchartButtonEl.disabled = true;  // To prevent multiple clicks.\n",
              "      quickchartButtonEl.classList.add('colab-df-spinner');\n",
              "      try {\n",
              "        const charts = await google.colab.kernel.invokeFunction(\n",
              "            'suggestCharts', [key], {});\n",
              "      } catch (error) {\n",
              "        console.error('Error during call to suggestCharts:', error);\n",
              "      }\n",
              "      quickchartButtonEl.classList.remove('colab-df-spinner');\n",
              "      quickchartButtonEl.classList.add('colab-df-quickchart-complete');\n",
              "    }\n",
              "    (() => {\n",
              "      let quickchartButtonEl =\n",
              "        document.querySelector('#df-6b86f283-3fb6-4ac1-85fc-8e150fa4cd52 button');\n",
              "      quickchartButtonEl.style.display =\n",
              "        google.colab.kernel.accessAllowed ? 'block' : 'none';\n",
              "    })();\n",
              "  </script>\n",
              "</div>\n",
              "    </div>\n",
              "  </div>\n"
            ]
          },
          "metadata": {},
          "execution_count": 43
        }
      ]
    },
    {
      "cell_type": "code",
      "source": [
        "def smiles_To_descriptors(df, col):\n",
        "\n",
        "  result = pd.DataFrame()\n",
        "  for i in df[col]:\n",
        "    descriptors = from_smiles(i)\n",
        "    aa = pd.DataFrame.from_dict(descriptors, orient='index').T\n",
        "    result = pd.concat([result, aa])\n",
        "    print(i)\n",
        "  return result\n",
        "\n",
        "qq = smiles_To_descriptors(df, 'smiles')\n",
        "qq"
      ],
      "metadata": {
        "colab": {
          "base_uri": "https://localhost:8080/",
          "height": 338
        },
        "id": "wLfDNkkFw8Pz",
        "outputId": "f4355868-a9fd-4cc0-ae35-1220c1004c55"
      },
      "execution_count": null,
      "outputs": [
        {
          "output_type": "stream",
          "name": "stdout",
          "text": [
            "Nc1nc(NC2CC2)c3ncn(C4CC(CO)C=C4)c3n1\n",
            "CC1OC(OC2C(O)C(O)C(OC3C(O)C(O)C(O)OC3CO)OC2CO)C(O)C(O)C1NC4C=C(CO)C(O)C(O)C4O\n",
            "CCCC(=O)Nc1ccc(OCC(O)CNC(C)C)c(c1)C(=O)C\n",
            "CCN(CC)CCNC(=O)c1ccc(NC(=O)C)cc1\n",
            "OC(=O)COC(=O)Cc1ccccc1Nc2c(Cl)cccc2Cl\n"
          ]
        },
        {
          "output_type": "execute_result",
          "data": {
            "text/plain": [
              "  nAcid                ALogP               ALogp2                 AMR  \\\n",
              "0     0  -1.8652999999999995   3.4793440899999983  47.889100000000006   \n",
              "0     0   -7.226299999999998    52.21941168999998             137.768   \n",
              "0     0              -2.1004           4.41168016   67.07270000000001   \n",
              "0     0  -0.5178999999999999   0.2682204099999999  52.610800000000005   \n",
              "0     1   0.5702999999999996  0.32524208999999954             37.1534   \n",
              "\n",
              "                 apol naAromAtom nAromBond nAtom nHeavyAtom  nH  ...  \\\n",
              "0   44.04427399999998          9        10    39         21  18  ...   \n",
              "0   88.20809899999992          0         0    87         44  43  ...   \n",
              "0  55.758203999999964          6         6    52         24  28  ...   \n",
              "0   46.64023899999998          6         6    43         20  23  ...   \n",
              "0   45.49630899999999         12        12    36         23  13  ...   \n",
              "\n",
              "                  P1s                   P2s                  E1s  \\\n",
              "0  0.8599875516869347   0.11936776513192293   0.5717712017570608   \n",
              "0   0.867266748080876   0.08537992818056282   0.5872195449182649   \n",
              "0  0.9107576908152359  0.057143214180078866  0.49420214193214995   \n",
              "0  0.9081897639711074   0.04895185552395173   0.5339583440164845   \n",
              "0   0.637071958260413   0.32840323244242176   0.4784157148398909   \n",
              "\n",
              "                   E2s                  E3s                  Ts  \\\n",
              "0   0.4094705561149402   0.2647241356389997   20.52061988047427   \n",
              "0   0.4439474944417814  0.47257788011267543   40.81136797212245   \n",
              "0  0.31955905148032976   0.3863925332141251   29.37022633428367   \n",
              "0  0.38755944994456004   0.4704491176698194  24.128665182033025   \n",
              "0   0.4016241209470858  0.35825429893567107  15.813288020698952   \n",
              "\n",
              "                   As                  Vs                  Ks  \\\n",
              "0  51.741423856941545   90.57501766925765  0.7899813275304021   \n",
              "0  198.46598768884337   477.6203576452659  0.8009001221213141   \n",
              "0   71.69357328462723  143.38735859417474   0.866136536222854   \n",
              "0   49.76529757085211  100.65983548079785  0.8622846459566611   \n",
              "0  60.651906193112545  105.02753157176315  0.4556079373906194   \n",
              "\n",
              "                   Ds  \n",
              "0  1.2459658935110007  \n",
              "0  1.5037449194727217  \n",
              "0   1.200153726626605  \n",
              "0   1.391966911630864  \n",
              "0   1.238294134722648  \n",
              "\n",
              "[5 rows x 1875 columns]"
            ],
            "text/html": [
              "\n",
              "  <div id=\"df-2c01800b-90d2-4fc8-aa02-a6e3318fcf16\" class=\"colab-df-container\">\n",
              "    <div>\n",
              "<style scoped>\n",
              "    .dataframe tbody tr th:only-of-type {\n",
              "        vertical-align: middle;\n",
              "    }\n",
              "\n",
              "    .dataframe tbody tr th {\n",
              "        vertical-align: top;\n",
              "    }\n",
              "\n",
              "    .dataframe thead th {\n",
              "        text-align: right;\n",
              "    }\n",
              "</style>\n",
              "<table border=\"1\" class=\"dataframe\">\n",
              "  <thead>\n",
              "    <tr style=\"text-align: right;\">\n",
              "      <th></th>\n",
              "      <th>nAcid</th>\n",
              "      <th>ALogP</th>\n",
              "      <th>ALogp2</th>\n",
              "      <th>AMR</th>\n",
              "      <th>apol</th>\n",
              "      <th>naAromAtom</th>\n",
              "      <th>nAromBond</th>\n",
              "      <th>nAtom</th>\n",
              "      <th>nHeavyAtom</th>\n",
              "      <th>nH</th>\n",
              "      <th>...</th>\n",
              "      <th>P1s</th>\n",
              "      <th>P2s</th>\n",
              "      <th>E1s</th>\n",
              "      <th>E2s</th>\n",
              "      <th>E3s</th>\n",
              "      <th>Ts</th>\n",
              "      <th>As</th>\n",
              "      <th>Vs</th>\n",
              "      <th>Ks</th>\n",
              "      <th>Ds</th>\n",
              "    </tr>\n",
              "  </thead>\n",
              "  <tbody>\n",
              "    <tr>\n",
              "      <th>0</th>\n",
              "      <td>0</td>\n",
              "      <td>-1.8652999999999995</td>\n",
              "      <td>3.4793440899999983</td>\n",
              "      <td>47.889100000000006</td>\n",
              "      <td>44.04427399999998</td>\n",
              "      <td>9</td>\n",
              "      <td>10</td>\n",
              "      <td>39</td>\n",
              "      <td>21</td>\n",
              "      <td>18</td>\n",
              "      <td>...</td>\n",
              "      <td>0.8599875516869347</td>\n",
              "      <td>0.11936776513192293</td>\n",
              "      <td>0.5717712017570608</td>\n",
              "      <td>0.4094705561149402</td>\n",
              "      <td>0.2647241356389997</td>\n",
              "      <td>20.52061988047427</td>\n",
              "      <td>51.741423856941545</td>\n",
              "      <td>90.57501766925765</td>\n",
              "      <td>0.7899813275304021</td>\n",
              "      <td>1.2459658935110007</td>\n",
              "    </tr>\n",
              "    <tr>\n",
              "      <th>0</th>\n",
              "      <td>0</td>\n",
              "      <td>-7.226299999999998</td>\n",
              "      <td>52.21941168999998</td>\n",
              "      <td>137.768</td>\n",
              "      <td>88.20809899999992</td>\n",
              "      <td>0</td>\n",
              "      <td>0</td>\n",
              "      <td>87</td>\n",
              "      <td>44</td>\n",
              "      <td>43</td>\n",
              "      <td>...</td>\n",
              "      <td>0.867266748080876</td>\n",
              "      <td>0.08537992818056282</td>\n",
              "      <td>0.5872195449182649</td>\n",
              "      <td>0.4439474944417814</td>\n",
              "      <td>0.47257788011267543</td>\n",
              "      <td>40.81136797212245</td>\n",
              "      <td>198.46598768884337</td>\n",
              "      <td>477.6203576452659</td>\n",
              "      <td>0.8009001221213141</td>\n",
              "      <td>1.5037449194727217</td>\n",
              "    </tr>\n",
              "    <tr>\n",
              "      <th>0</th>\n",
              "      <td>0</td>\n",
              "      <td>-2.1004</td>\n",
              "      <td>4.41168016</td>\n",
              "      <td>67.07270000000001</td>\n",
              "      <td>55.758203999999964</td>\n",
              "      <td>6</td>\n",
              "      <td>6</td>\n",
              "      <td>52</td>\n",
              "      <td>24</td>\n",
              "      <td>28</td>\n",
              "      <td>...</td>\n",
              "      <td>0.9107576908152359</td>\n",
              "      <td>0.057143214180078866</td>\n",
              "      <td>0.49420214193214995</td>\n",
              "      <td>0.31955905148032976</td>\n",
              "      <td>0.3863925332141251</td>\n",
              "      <td>29.37022633428367</td>\n",
              "      <td>71.69357328462723</td>\n",
              "      <td>143.38735859417474</td>\n",
              "      <td>0.866136536222854</td>\n",
              "      <td>1.200153726626605</td>\n",
              "    </tr>\n",
              "    <tr>\n",
              "      <th>0</th>\n",
              "      <td>0</td>\n",
              "      <td>-0.5178999999999999</td>\n",
              "      <td>0.2682204099999999</td>\n",
              "      <td>52.610800000000005</td>\n",
              "      <td>46.64023899999998</td>\n",
              "      <td>6</td>\n",
              "      <td>6</td>\n",
              "      <td>43</td>\n",
              "      <td>20</td>\n",
              "      <td>23</td>\n",
              "      <td>...</td>\n",
              "      <td>0.9081897639711074</td>\n",
              "      <td>0.04895185552395173</td>\n",
              "      <td>0.5339583440164845</td>\n",
              "      <td>0.38755944994456004</td>\n",
              "      <td>0.4704491176698194</td>\n",
              "      <td>24.128665182033025</td>\n",
              "      <td>49.76529757085211</td>\n",
              "      <td>100.65983548079785</td>\n",
              "      <td>0.8622846459566611</td>\n",
              "      <td>1.391966911630864</td>\n",
              "    </tr>\n",
              "    <tr>\n",
              "      <th>0</th>\n",
              "      <td>1</td>\n",
              "      <td>0.5702999999999996</td>\n",
              "      <td>0.32524208999999954</td>\n",
              "      <td>37.1534</td>\n",
              "      <td>45.49630899999999</td>\n",
              "      <td>12</td>\n",
              "      <td>12</td>\n",
              "      <td>36</td>\n",
              "      <td>23</td>\n",
              "      <td>13</td>\n",
              "      <td>...</td>\n",
              "      <td>0.637071958260413</td>\n",
              "      <td>0.32840323244242176</td>\n",
              "      <td>0.4784157148398909</td>\n",
              "      <td>0.4016241209470858</td>\n",
              "      <td>0.35825429893567107</td>\n",
              "      <td>15.813288020698952</td>\n",
              "      <td>60.651906193112545</td>\n",
              "      <td>105.02753157176315</td>\n",
              "      <td>0.4556079373906194</td>\n",
              "      <td>1.238294134722648</td>\n",
              "    </tr>\n",
              "  </tbody>\n",
              "</table>\n",
              "<p>5 rows × 1875 columns</p>\n",
              "</div>\n",
              "    <div class=\"colab-df-buttons\">\n",
              "\n",
              "  <div class=\"colab-df-container\">\n",
              "    <button class=\"colab-df-convert\" onclick=\"convertToInteractive('df-2c01800b-90d2-4fc8-aa02-a6e3318fcf16')\"\n",
              "            title=\"Convert this dataframe to an interactive table.\"\n",
              "            style=\"display:none;\">\n",
              "\n",
              "  <svg xmlns=\"http://www.w3.org/2000/svg\" height=\"24px\" viewBox=\"0 -960 960 960\">\n",
              "    <path d=\"M120-120v-720h720v720H120Zm60-500h600v-160H180v160Zm220 220h160v-160H400v160Zm0 220h160v-160H400v160ZM180-400h160v-160H180v160Zm440 0h160v-160H620v160ZM180-180h160v-160H180v160Zm440 0h160v-160H620v160Z\"/>\n",
              "  </svg>\n",
              "    </button>\n",
              "\n",
              "  <style>\n",
              "    .colab-df-container {\n",
              "      display:flex;\n",
              "      gap: 12px;\n",
              "    }\n",
              "\n",
              "    .colab-df-convert {\n",
              "      background-color: #E8F0FE;\n",
              "      border: none;\n",
              "      border-radius: 50%;\n",
              "      cursor: pointer;\n",
              "      display: none;\n",
              "      fill: #1967D2;\n",
              "      height: 32px;\n",
              "      padding: 0 0 0 0;\n",
              "      width: 32px;\n",
              "    }\n",
              "\n",
              "    .colab-df-convert:hover {\n",
              "      background-color: #E2EBFA;\n",
              "      box-shadow: 0px 1px 2px rgba(60, 64, 67, 0.3), 0px 1px 3px 1px rgba(60, 64, 67, 0.15);\n",
              "      fill: #174EA6;\n",
              "    }\n",
              "\n",
              "    .colab-df-buttons div {\n",
              "      margin-bottom: 4px;\n",
              "    }\n",
              "\n",
              "    [theme=dark] .colab-df-convert {\n",
              "      background-color: #3B4455;\n",
              "      fill: #D2E3FC;\n",
              "    }\n",
              "\n",
              "    [theme=dark] .colab-df-convert:hover {\n",
              "      background-color: #434B5C;\n",
              "      box-shadow: 0px 1px 3px 1px rgba(0, 0, 0, 0.15);\n",
              "      filter: drop-shadow(0px 1px 2px rgba(0, 0, 0, 0.3));\n",
              "      fill: #FFFFFF;\n",
              "    }\n",
              "  </style>\n",
              "\n",
              "    <script>\n",
              "      const buttonEl =\n",
              "        document.querySelector('#df-2c01800b-90d2-4fc8-aa02-a6e3318fcf16 button.colab-df-convert');\n",
              "      buttonEl.style.display =\n",
              "        google.colab.kernel.accessAllowed ? 'block' : 'none';\n",
              "\n",
              "      async function convertToInteractive(key) {\n",
              "        const element = document.querySelector('#df-2c01800b-90d2-4fc8-aa02-a6e3318fcf16');\n",
              "        const dataTable =\n",
              "          await google.colab.kernel.invokeFunction('convertToInteractive',\n",
              "                                                    [key], {});\n",
              "        if (!dataTable) return;\n",
              "\n",
              "        const docLinkHtml = 'Like what you see? Visit the ' +\n",
              "          '<a target=\"_blank\" href=https://colab.research.google.com/notebooks/data_table.ipynb>data table notebook</a>'\n",
              "          + ' to learn more about interactive tables.';\n",
              "        element.innerHTML = '';\n",
              "        dataTable['output_type'] = 'display_data';\n",
              "        await google.colab.output.renderOutput(dataTable, element);\n",
              "        const docLink = document.createElement('div');\n",
              "        docLink.innerHTML = docLinkHtml;\n",
              "        element.appendChild(docLink);\n",
              "      }\n",
              "    </script>\n",
              "  </div>\n",
              "\n",
              "\n",
              "<div id=\"df-6a3d4f8a-6510-44eb-837d-46da277e8a1a\">\n",
              "  <button class=\"colab-df-quickchart\" onclick=\"quickchart('df-6a3d4f8a-6510-44eb-837d-46da277e8a1a')\"\n",
              "            title=\"Suggest charts.\"\n",
              "            style=\"display:none;\">\n",
              "\n",
              "<svg xmlns=\"http://www.w3.org/2000/svg\" height=\"24px\"viewBox=\"0 0 24 24\"\n",
              "     width=\"24px\">\n",
              "    <g>\n",
              "        <path d=\"M19 3H5c-1.1 0-2 .9-2 2v14c0 1.1.9 2 2 2h14c1.1 0 2-.9 2-2V5c0-1.1-.9-2-2-2zM9 17H7v-7h2v7zm4 0h-2V7h2v10zm4 0h-2v-4h2v4z\"/>\n",
              "    </g>\n",
              "</svg>\n",
              "  </button>\n",
              "\n",
              "<style>\n",
              "  .colab-df-quickchart {\n",
              "      --bg-color: #E8F0FE;\n",
              "      --fill-color: #1967D2;\n",
              "      --hover-bg-color: #E2EBFA;\n",
              "      --hover-fill-color: #174EA6;\n",
              "      --disabled-fill-color: #AAA;\n",
              "      --disabled-bg-color: #DDD;\n",
              "  }\n",
              "\n",
              "  [theme=dark] .colab-df-quickchart {\n",
              "      --bg-color: #3B4455;\n",
              "      --fill-color: #D2E3FC;\n",
              "      --hover-bg-color: #434B5C;\n",
              "      --hover-fill-color: #FFFFFF;\n",
              "      --disabled-bg-color: #3B4455;\n",
              "      --disabled-fill-color: #666;\n",
              "  }\n",
              "\n",
              "  .colab-df-quickchart {\n",
              "    background-color: var(--bg-color);\n",
              "    border: none;\n",
              "    border-radius: 50%;\n",
              "    cursor: pointer;\n",
              "    display: none;\n",
              "    fill: var(--fill-color);\n",
              "    height: 32px;\n",
              "    padding: 0;\n",
              "    width: 32px;\n",
              "  }\n",
              "\n",
              "  .colab-df-quickchart:hover {\n",
              "    background-color: var(--hover-bg-color);\n",
              "    box-shadow: 0 1px 2px rgba(60, 64, 67, 0.3), 0 1px 3px 1px rgba(60, 64, 67, 0.15);\n",
              "    fill: var(--button-hover-fill-color);\n",
              "  }\n",
              "\n",
              "  .colab-df-quickchart-complete:disabled,\n",
              "  .colab-df-quickchart-complete:disabled:hover {\n",
              "    background-color: var(--disabled-bg-color);\n",
              "    fill: var(--disabled-fill-color);\n",
              "    box-shadow: none;\n",
              "  }\n",
              "\n",
              "  .colab-df-spinner {\n",
              "    border: 2px solid var(--fill-color);\n",
              "    border-color: transparent;\n",
              "    border-bottom-color: var(--fill-color);\n",
              "    animation:\n",
              "      spin 1s steps(1) infinite;\n",
              "  }\n",
              "\n",
              "  @keyframes spin {\n",
              "    0% {\n",
              "      border-color: transparent;\n",
              "      border-bottom-color: var(--fill-color);\n",
              "      border-left-color: var(--fill-color);\n",
              "    }\n",
              "    20% {\n",
              "      border-color: transparent;\n",
              "      border-left-color: var(--fill-color);\n",
              "      border-top-color: var(--fill-color);\n",
              "    }\n",
              "    30% {\n",
              "      border-color: transparent;\n",
              "      border-left-color: var(--fill-color);\n",
              "      border-top-color: var(--fill-color);\n",
              "      border-right-color: var(--fill-color);\n",
              "    }\n",
              "    40% {\n",
              "      border-color: transparent;\n",
              "      border-right-color: var(--fill-color);\n",
              "      border-top-color: var(--fill-color);\n",
              "    }\n",
              "    60% {\n",
              "      border-color: transparent;\n",
              "      border-right-color: var(--fill-color);\n",
              "    }\n",
              "    80% {\n",
              "      border-color: transparent;\n",
              "      border-right-color: var(--fill-color);\n",
              "      border-bottom-color: var(--fill-color);\n",
              "    }\n",
              "    90% {\n",
              "      border-color: transparent;\n",
              "      border-bottom-color: var(--fill-color);\n",
              "    }\n",
              "  }\n",
              "</style>\n",
              "\n",
              "  <script>\n",
              "    async function quickchart(key) {\n",
              "      const quickchartButtonEl =\n",
              "        document.querySelector('#' + key + ' button');\n",
              "      quickchartButtonEl.disabled = true;  // To prevent multiple clicks.\n",
              "      quickchartButtonEl.classList.add('colab-df-spinner');\n",
              "      try {\n",
              "        const charts = await google.colab.kernel.invokeFunction(\n",
              "            'suggestCharts', [key], {});\n",
              "      } catch (error) {\n",
              "        console.error('Error during call to suggestCharts:', error);\n",
              "      }\n",
              "      quickchartButtonEl.classList.remove('colab-df-spinner');\n",
              "      quickchartButtonEl.classList.add('colab-df-quickchart-complete');\n",
              "    }\n",
              "    (() => {\n",
              "      let quickchartButtonEl =\n",
              "        document.querySelector('#df-6a3d4f8a-6510-44eb-837d-46da277e8a1a button');\n",
              "      quickchartButtonEl.style.display =\n",
              "        google.colab.kernel.accessAllowed ? 'block' : 'none';\n",
              "    })();\n",
              "  </script>\n",
              "</div>\n",
              "    </div>\n",
              "  </div>\n"
            ]
          },
          "metadata": {},
          "execution_count": 86
        }
      ]
    },
    {
      "cell_type": "markdown",
      "metadata": {
        "id": "LEGEh-dyMasS"
      },
      "source": [
        "# Cpd Info"
      ]
    },
    {
      "cell_type": "code",
      "execution_count": null,
      "metadata": {
        "id": "7ehgPJcTMJxt"
      },
      "outputs": [],
      "source": [
        "# Warfarin\n",
        "SMILES = \"CC(=O)CC(C1=CC=CC=C1)C2=C(C3=CC=CC=C3OC2=O)O\""
      ]
    },
    {
      "cell_type": "code",
      "execution_count": null,
      "metadata": {
        "id": "u87YceUxMg5e",
        "colab": {
          "base_uri": "https://localhost:8080/",
          "height": 167
        },
        "outputId": "80ed8d27-7fc1-45cb-ebf2-c99402f62164"
      },
      "outputs": [
        {
          "output_type": "execute_result",
          "data": {
            "text/plain": [
              "<rdkit.Chem.rdchem.Mol at 0x799180ddfb50>"
            ],
            "image/png": "[encoded data removed]"
          },
          "metadata": {},
          "execution_count": 7
        }
      ],
      "source": [
        "# Mol format\n",
        "Warfarin = Chem.MolFromSmiles(SMILES)\n",
        "Warfarin"
      ]
    },
    {
      "cell_type": "code",
      "execution_count": null,
      "metadata": {
        "id": "Dh1u5jBoMzpW",
        "colab": {
          "base_uri": "https://localhost:8080/",
          "height": 167
        },
        "outputId": "562750ad-c3e1-430f-cb3a-e4b330534389"
      },
      "outputs": [
        {
          "output_type": "execute_result",
          "data": {
            "text/plain": [
              "<rdkit.Chem.rdchem.Mol at 0x799180ddfb50>"
            ],
            "image/png": "[encoded data removed]"
          },
          "metadata": {},
          "execution_count": 8
        }
      ],
      "source": [
        "# Show Atom\n",
        "for atom in Warfarin.GetAtoms():\n",
        "        atom.SetAtomMapNum(atom.GetIdx())\n",
        "\n",
        "Warfarin"
      ]
    },
    {
      "cell_type": "code",
      "execution_count": null,
      "metadata": {
        "id": "mqLXShL1Nxlk",
        "colab": {
          "base_uri": "https://localhost:8080/",
          "height": 617
        },
        "outputId": "bb21baba-e5dc-46cd-fd02-037c40f74d19"
      },
      "outputs": [
        {
          "output_type": "execute_result",
          "data": {
            "text/plain": [
              "<rdkit.Chem.rdchem.Mol at 0x799180ddfdf0>"
            ],
            "image/png": "[encoded data removed]"
          },
          "metadata": {},
          "execution_count": 9
        }
      ],
      "source": [
        "from rdkit.Chem.Draw import IPythonConsole\n",
        "from rdkit.Chem import Draw\n",
        "IPythonConsole.drawOptions.addAtomIndices = True\n",
        "IPythonConsole.molSize = 600, 600\n",
        "\n",
        "Warfarin = Chem.MolFromSmiles(SMILES)\n",
        "Warfarin"
      ]
    },
    {
      "cell_type": "markdown",
      "metadata": {
        "id": "-KQXSN_6Piwn"
      },
      "source": [
        "# Descriptors"
      ]
    },
    {
      "cell_type": "code",
      "execution_count": null,
      "metadata": {
        "colab": {
          "base_uri": "https://localhost:8080/"
        },
        "id": "kIp-IGzXO6Rv",
        "outputId": "ac5317f1-971d-4b38-a693-71786e50e530"
      },
      "outputs": [
        {
          "output_type": "stream",
          "name": "stdout",
          "text": [
            "# of Descriptors: 209\n"
          ]
        },
        {
          "output_type": "execute_result",
          "data": {
            "text/plain": [
              "[('MaxAbsEStateIndex',\n",
              "  <function rdkit.Chem.EState.EState.MaxAbsEStateIndex(mol, force=1)>),\n",
              " ('MaxEStateIndex',\n",
              "  <function rdkit.Chem.EState.EState.MaxEStateIndex(mol, force=1)>),\n",
              " ('MinAbsEStateIndex',\n",
              "  <function rdkit.Chem.EState.EState.MinAbsEStateIndex(mol, force=1)>),\n",
              " ('MinEStateIndex',\n",
              "  <function rdkit.Chem.EState.EState.MinEStateIndex(mol, force=1)>),\n",
              " ('qed',\n",
              "  <function rdkit.Chem.QED.qed(mol, w=QEDproperties(MW=0.66, ALOGP=0.46, HBA=0.05, HBD=0.61, PSA=0.06, ROTB=0.65, AROM=0.48, ALERTS=0.95), qedProperties=None)>)]"
            ]
          },
          "metadata": {},
          "execution_count": 10
        }
      ],
      "source": [
        "DescList = Descriptors._descList\n",
        "print(\"# of Descriptors: \" + str(len(DescList)))\n",
        "DescList[0: 5]"
      ]
    },
    {
      "cell_type": "code",
      "execution_count": null,
      "metadata": {
        "colab": {
          "base_uri": "https://localhost:8080/"
        },
        "id": "ejxQF4s1P_VS",
        "outputId": "51e89dc4-e4d5-4bf5-b64c-ce76602738dc"
      },
      "outputs": [
        {
          "name": "stdout",
          "output_type": "stream",
          "text": [
            "MaxEStateIndex: 12.41230678382464\n",
            "MinEStateIndex: -0.614534202569917\n",
            "MaxAbsEStateIndex: 12.41230678382464\n",
            "MinAbsEStateIndex: 0.06406326110691185\n",
            "qed: 0.7476258148419598\n"
          ]
        }
      ],
      "source": [
        "print(\"MaxEStateIndex: \" + str(Descriptors.MaxEStateIndex(Warfarin)))\n",
        "print(\"MinEStateIndex: \" + str(Descriptors.MinEStateIndex(Warfarin)))\n",
        "print(\"MaxAbsEStateIndex: \" + str(Descriptors.MaxAbsEStateIndex(Warfarin)))\n",
        "print(\"MinAbsEStateIndex: \" + str(Descriptors.MinAbsEStateIndex(Warfarin)))\n",
        "print(\"qed: \" + str(Descriptors.qed(Warfarin)))\n"
      ]
    },
    {
      "cell_type": "code",
      "execution_count": null,
      "metadata": {
        "colab": {
          "base_uri": "https://localhost:8080/"
        },
        "id": "AK20KCL5Tra9",
        "outputId": "98eb50be-28dc-4e76-b013-90ca3b414968"
      },
      "outputs": [
        {
          "name": "stdout",
          "output_type": "stream",
          "text": [
            "12.41230678382464\n",
            "-0.614534202569917\n",
            "12.41230678382464\n",
            "0.06406326110691185\n",
            "0.7476258148419598\n"
          ]
        }
      ],
      "source": [
        "print(Descriptors._descList[0][1](Warfarin))\n",
        "print(Descriptors._descList[1][1](Warfarin))\n",
        "print(Descriptors._descList[2][1](Warfarin))\n",
        "print(Descriptors._descList[3][1](Warfarin))\n",
        "print(Descriptors._descList[4][1](Warfarin))"
      ]
    },
    {
      "cell_type": "code",
      "execution_count": null,
      "metadata": {
        "id": "-KDrN89uTypt"
      },
      "outputs": [],
      "source": [
        "DSV = []\n",
        "for i in range(len(DescList)):\n",
        "  DSV.append(Descriptors._descList[i][1](Warfarin))\n",
        "DSV\n"
      ]
    },
    {
      "cell_type": "code",
      "execution_count": null,
      "metadata": {
        "id": "qRHA4ouGQlhe"
      },
      "outputs": [],
      "source": [
        "def getMolDescriptors(mol, MissingValue = None):\n",
        "    Result = {}\n",
        "    for DescName, Fun in Descriptors._descList:\n",
        "        try:\n",
        "            DescValue = Fun(mol)\n",
        "        except:\n",
        "            import traceback\n",
        "            traceback.print_exc()\n",
        "            DescValue = MissingValue\n",
        "        Result[DescName] = DescValue\n",
        "    return Result"
      ]
    },
    {
      "cell_type": "code",
      "execution_count": null,
      "metadata": {
        "id": "NHd0Z4cvRa0J"
      },
      "outputs": [],
      "source": [
        "getMolDescriptors(Warfarin)"
      ]
    },
    {
      "cell_type": "markdown",
      "metadata": {
        "id": "oHrHY22PSgfL"
      },
      "source": [
        "# Reading Sets of Molecules\n"
      ]
    }
  ],
  "metadata": {
    "colab": {
      "provenance": []
    },
    "kernelspec": {
      "display_name": "Python 3",
      "name": "python3"
    },
    "language_info": {
      "name": "python"
    }
  },
  "nbformat": 4,
  "nbformat_minor": 0
}